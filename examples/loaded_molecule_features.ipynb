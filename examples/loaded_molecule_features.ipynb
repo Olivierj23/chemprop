{
 "cells": [
  {
   "cell_type": "markdown",
   "metadata": {},
   "source": [
    "# Import Packages"
   ]
  },
  {
   "cell_type": "code",
   "execution_count": 1,
   "metadata": {},
   "outputs": [],
   "source": [
    "import pandas as pd\n",
    "from rdkit import Chem\n",
    "from rdkit.Chem import Descriptors\n",
    "from sklearn.model_selection import train_test_split\n",
    "\n",
    "from chemprop import data, featurizers"
   ]
  },
  {
   "cell_type": "markdown",
   "metadata": {},
   "source": [
    "# Change data inputs here"
   ]
  },
  {
   "cell_type": "code",
   "execution_count": 2,
   "metadata": {},
   "outputs": [],
   "source": [
    "test_path = '../tests/data/regression/mol.csv'  # path to your data .csv file containing SMILES strings, target values and features."
   ]
  },
  {
   "cell_type": "markdown",
   "metadata": {},
   "source": [
    "## Load data"
   ]
  },
  {
   "cell_type": "code",
   "execution_count": 3,
   "metadata": {},
   "outputs": [
    {
     "data": {
      "text/html": [
       "<div>\n",
       "<style scoped>\n",
       "    .dataframe tbody tr th:only-of-type {\n",
       "        vertical-align: middle;\n",
       "    }\n",
       "\n",
       "    .dataframe tbody tr th {\n",
       "        vertical-align: top;\n",
       "    }\n",
       "\n",
       "    .dataframe thead th {\n",
       "        text-align: right;\n",
       "    }\n",
       "</style>\n",
       "<table border=\"1\" class=\"dataframe\">\n",
       "  <thead>\n",
       "    <tr style=\"text-align: right;\">\n",
       "      <th></th>\n",
       "      <th>smiles</th>\n",
       "      <th>lipo</th>\n",
       "    </tr>\n",
       "  </thead>\n",
       "  <tbody>\n",
       "    <tr>\n",
       "      <th>0</th>\n",
       "      <td>Cn1c(CN2CCN(CC2)c3ccc(Cl)cc3)nc4ccccc14</td>\n",
       "      <td>3.54</td>\n",
       "    </tr>\n",
       "    <tr>\n",
       "      <th>1</th>\n",
       "      <td>COc1cc(OC)c(cc1NC(=O)CSCC(=O)O)S(=O)(=O)N2C(C)...</td>\n",
       "      <td>-1.18</td>\n",
       "    </tr>\n",
       "    <tr>\n",
       "      <th>2</th>\n",
       "      <td>COC(=O)[C@@H](N1CCc2sccc2C1)c3ccccc3Cl</td>\n",
       "      <td>3.69</td>\n",
       "    </tr>\n",
       "    <tr>\n",
       "      <th>3</th>\n",
       "      <td>OC[C@H](O)CN1C(=O)C(Cc2ccccc12)NC(=O)c3cc4cc(C...</td>\n",
       "      <td>3.37</td>\n",
       "    </tr>\n",
       "    <tr>\n",
       "      <th>4</th>\n",
       "      <td>Cc1cccc(C[C@H](NC(=O)c2cc(nn2C)C(C)(C)C)C(=O)N...</td>\n",
       "      <td>3.10</td>\n",
       "    </tr>\n",
       "    <tr>\n",
       "      <th>...</th>\n",
       "      <td>...</td>\n",
       "      <td>...</td>\n",
       "    </tr>\n",
       "    <tr>\n",
       "      <th>95</th>\n",
       "      <td>CC(C)N(CCCNC(=O)Nc1ccc(cc1)C(C)(C)C)C[C@H]2O[C...</td>\n",
       "      <td>2.20</td>\n",
       "    </tr>\n",
       "    <tr>\n",
       "      <th>96</th>\n",
       "      <td>CCN(CC)CCCCNc1ncc2CN(C(=O)N(Cc3cccc(NC(=O)C=C)...</td>\n",
       "      <td>2.04</td>\n",
       "    </tr>\n",
       "    <tr>\n",
       "      <th>97</th>\n",
       "      <td>CCSc1c(Cc2ccccc2C(F)(F)F)sc3N(CC(C)C)C(=O)N(C)...</td>\n",
       "      <td>4.49</td>\n",
       "    </tr>\n",
       "    <tr>\n",
       "      <th>98</th>\n",
       "      <td>COc1ccc(Cc2c(N)n[nH]c2N)cc1</td>\n",
       "      <td>0.20</td>\n",
       "    </tr>\n",
       "    <tr>\n",
       "      <th>99</th>\n",
       "      <td>CCN(CCN(C)C)S(=O)(=O)c1ccc(cc1)c2cnc(N)c(n2)C(...</td>\n",
       "      <td>2.00</td>\n",
       "    </tr>\n",
       "  </tbody>\n",
       "</table>\n",
       "<p>100 rows × 2 columns</p>\n",
       "</div>"
      ],
      "text/plain": [
       "                                               smiles  lipo\n",
       "0             Cn1c(CN2CCN(CC2)c3ccc(Cl)cc3)nc4ccccc14  3.54\n",
       "1   COc1cc(OC)c(cc1NC(=O)CSCC(=O)O)S(=O)(=O)N2C(C)... -1.18\n",
       "2              COC(=O)[C@@H](N1CCc2sccc2C1)c3ccccc3Cl  3.69\n",
       "3   OC[C@H](O)CN1C(=O)C(Cc2ccccc12)NC(=O)c3cc4cc(C...  3.37\n",
       "4   Cc1cccc(C[C@H](NC(=O)c2cc(nn2C)C(C)(C)C)C(=O)N...  3.10\n",
       "..                                                ...   ...\n",
       "95  CC(C)N(CCCNC(=O)Nc1ccc(cc1)C(C)(C)C)C[C@H]2O[C...  2.20\n",
       "96  CCN(CC)CCCCNc1ncc2CN(C(=O)N(Cc3cccc(NC(=O)C=C)...  2.04\n",
       "97  CCSc1c(Cc2ccccc2C(F)(F)F)sc3N(CC(C)C)C(=O)N(C)...  4.49\n",
       "98                        COc1ccc(Cc2c(N)n[nH]c2N)cc1  0.20\n",
       "99  CCN(CCN(C)C)S(=O)(=O)c1ccc(cc1)c2cnc(N)c(n2)C(...  2.00\n",
       "\n",
       "[100 rows x 2 columns]"
      ]
     },
     "execution_count": 3,
     "metadata": {},
     "output_type": "execute_result"
    }
   ],
   "source": [
    "df_test = pd.read_csv(test_path)\n",
    "df_test"
   ]
  },
  {
   "cell_type": "markdown",
   "metadata": {},
   "source": [
    " Next, we will compute a couple additional molecular features using RDKit"
   ]
  },
  {
   "cell_type": "code",
   "execution_count": 4,
   "metadata": {},
   "outputs": [
    {
     "data": {
      "text/html": [
       "<div>\n",
       "<style scoped>\n",
       "    .dataframe tbody tr th:only-of-type {\n",
       "        vertical-align: middle;\n",
       "    }\n",
       "\n",
       "    .dataframe tbody tr th {\n",
       "        vertical-align: top;\n",
       "    }\n",
       "\n",
       "    .dataframe thead th {\n",
       "        text-align: right;\n",
       "    }\n",
       "</style>\n",
       "<table border=\"1\" class=\"dataframe\">\n",
       "  <thead>\n",
       "    <tr style=\"text-align: right;\">\n",
       "      <th></th>\n",
       "      <th>smiles</th>\n",
       "      <th>lipo</th>\n",
       "      <th>mw</th>\n",
       "      <th>qed</th>\n",
       "    </tr>\n",
       "  </thead>\n",
       "  <tbody>\n",
       "    <tr>\n",
       "      <th>0</th>\n",
       "      <td>Cn1c(CN2CCN(CC2)c3ccc(Cl)cc3)nc4ccccc14</td>\n",
       "      <td>3.54</td>\n",
       "      <td>340.858</td>\n",
       "      <td>0.728444</td>\n",
       "    </tr>\n",
       "    <tr>\n",
       "      <th>1</th>\n",
       "      <td>COc1cc(OC)c(cc1NC(=O)CSCC(=O)O)S(=O)(=O)N2C(C)...</td>\n",
       "      <td>-1.18</td>\n",
       "      <td>494.591</td>\n",
       "      <td>0.545587</td>\n",
       "    </tr>\n",
       "    <tr>\n",
       "      <th>2</th>\n",
       "      <td>COC(=O)[C@@H](N1CCc2sccc2C1)c3ccccc3Cl</td>\n",
       "      <td>3.69</td>\n",
       "      <td>321.829</td>\n",
       "      <td>0.807761</td>\n",
       "    </tr>\n",
       "    <tr>\n",
       "      <th>3</th>\n",
       "      <td>OC[C@H](O)CN1C(=O)C(Cc2ccccc12)NC(=O)c3cc4cc(C...</td>\n",
       "      <td>3.37</td>\n",
       "      <td>419.890</td>\n",
       "      <td>0.506650</td>\n",
       "    </tr>\n",
       "    <tr>\n",
       "      <th>4</th>\n",
       "      <td>Cc1cccc(C[C@H](NC(=O)c2cc(nn2C)C(C)(C)C)C(=O)N...</td>\n",
       "      <td>3.10</td>\n",
       "      <td>381.480</td>\n",
       "      <td>0.747686</td>\n",
       "    </tr>\n",
       "    <tr>\n",
       "      <th>...</th>\n",
       "      <td>...</td>\n",
       "      <td>...</td>\n",
       "      <td>...</td>\n",
       "      <td>...</td>\n",
       "    </tr>\n",
       "    <tr>\n",
       "      <th>95</th>\n",
       "      <td>CC(C)N(CCCNC(=O)Nc1ccc(cc1)C(C)(C)C)C[C@H]2O[C...</td>\n",
       "      <td>2.20</td>\n",
       "      <td>540.669</td>\n",
       "      <td>0.256099</td>\n",
       "    </tr>\n",
       "    <tr>\n",
       "      <th>96</th>\n",
       "      <td>CCN(CC)CCCCNc1ncc2CN(C(=O)N(Cc3cccc(NC(=O)C=C)...</td>\n",
       "      <td>2.04</td>\n",
       "      <td>656.615</td>\n",
       "      <td>0.139020</td>\n",
       "    </tr>\n",
       "    <tr>\n",
       "      <th>97</th>\n",
       "      <td>CCSc1c(Cc2ccccc2C(F)(F)F)sc3N(CC(C)C)C(=O)N(C)...</td>\n",
       "      <td>4.49</td>\n",
       "      <td>456.555</td>\n",
       "      <td>0.482692</td>\n",
       "    </tr>\n",
       "    <tr>\n",
       "      <th>98</th>\n",
       "      <td>COc1ccc(Cc2c(N)n[nH]c2N)cc1</td>\n",
       "      <td>0.20</td>\n",
       "      <td>218.260</td>\n",
       "      <td>0.721007</td>\n",
       "    </tr>\n",
       "    <tr>\n",
       "      <th>99</th>\n",
       "      <td>CCN(CCN(C)C)S(=O)(=O)c1ccc(cc1)c2cnc(N)c(n2)C(...</td>\n",
       "      <td>2.00</td>\n",
       "      <td>469.571</td>\n",
       "      <td>0.485524</td>\n",
       "    </tr>\n",
       "  </tbody>\n",
       "</table>\n",
       "<p>100 rows × 4 columns</p>\n",
       "</div>"
      ],
      "text/plain": [
       "                                               smiles  lipo       mw       qed\n",
       "0             Cn1c(CN2CCN(CC2)c3ccc(Cl)cc3)nc4ccccc14  3.54  340.858  0.728444\n",
       "1   COc1cc(OC)c(cc1NC(=O)CSCC(=O)O)S(=O)(=O)N2C(C)... -1.18  494.591  0.545587\n",
       "2              COC(=O)[C@@H](N1CCc2sccc2C1)c3ccccc3Cl  3.69  321.829  0.807761\n",
       "3   OC[C@H](O)CN1C(=O)C(Cc2ccccc12)NC(=O)c3cc4cc(C...  3.37  419.890  0.506650\n",
       "4   Cc1cccc(C[C@H](NC(=O)c2cc(nn2C)C(C)(C)C)C(=O)N...  3.10  381.480  0.747686\n",
       "..                                                ...   ...      ...       ...\n",
       "95  CC(C)N(CCCNC(=O)Nc1ccc(cc1)C(C)(C)C)C[C@H]2O[C...  2.20  540.669  0.256099\n",
       "96  CCN(CC)CCCCNc1ncc2CN(C(=O)N(Cc3cccc(NC(=O)C=C)...  2.04  656.615  0.139020\n",
       "97  CCSc1c(Cc2ccccc2C(F)(F)F)sc3N(CC(C)C)C(=O)N(C)...  4.49  456.555  0.482692\n",
       "98                        COc1ccc(Cc2c(N)n[nH]c2N)cc1  0.20  218.260  0.721007\n",
       "99  CCN(CCN(C)C)S(=O)(=O)c1ccc(cc1)c2cnc(N)c(n2)C(...  2.00  469.571  0.485524\n",
       "\n",
       "[100 rows x 4 columns]"
      ]
     },
     "execution_count": 4,
     "metadata": {},
     "output_type": "execute_result"
    }
   ],
   "source": [
    "df_test['mw'] = df_test['smiles'].apply(lambda x: Descriptors.MolWt(Chem.MolFromSmiles(x)))\n",
    "df_test['qed'] = df_test['smiles'].apply(lambda x: Descriptors.qed(Chem.MolFromSmiles(x)))\n",
    "df_test"
   ]
  },
  {
   "cell_type": "code",
   "execution_count": 5,
   "metadata": {},
   "outputs": [],
   "source": [
    "smiles_column = 'smiles'  # name of the column containing SMILES strings.\n",
    "target_columns = ['lipo']  # list of names of the columns containing targets.\n",
    "mol_features_columns = ['mw','qed']  # list of names of the columns containing features."
   ]
  },
  {
   "cell_type": "markdown",
   "metadata": {},
   "source": [
    "## Get SMILES, targets and features"
   ]
  },
  {
   "cell_type": "code",
   "execution_count": 6,
   "metadata": {},
   "outputs": [
    {
     "data": {
      "text/plain": [
       "(array(['Cn1c(CN2CCN(CC2)c3ccc(Cl)cc3)nc4ccccc14',\n",
       "        'COc1cc(OC)c(cc1NC(=O)CSCC(=O)O)S(=O)(=O)N2C(C)CCc3ccccc23',\n",
       "        'COC(=O)[C@@H](N1CCc2sccc2C1)c3ccccc3Cl',\n",
       "        'OC[C@H](O)CN1C(=O)C(Cc2ccccc12)NC(=O)c3cc4cc(Cl)sc4[nH]3',\n",
       "        'Cc1cccc(C[C@H](NC(=O)c2cc(nn2C)C(C)(C)C)C(=O)NCC#N)c1'],\n",
       "       dtype=object),\n",
       " array([[ 3.54],\n",
       "        [-1.18],\n",
       "        [ 3.69],\n",
       "        [ 3.37],\n",
       "        [ 3.1 ]]),\n",
       " array([[340.858     ,   0.72844422],\n",
       "        [494.591     ,   0.54558681],\n",
       "        [321.829     ,   0.80776119],\n",
       "        [419.89      ,   0.50664956],\n",
       "        [381.48      ,   0.74768647]]))"
      ]
     },
     "execution_count": 6,
     "metadata": {},
     "output_type": "execute_result"
    }
   ],
   "source": [
    "smis = df_test.loc[:, smiles_column].values\n",
    "ys = df_test.loc[:, target_columns].values\n",
    "fs = df_test.loc[:, mol_features_columns].values\n",
    "\n",
    "smis[:5], ys[:5], fs[:5]"
   ]
  },
  {
   "cell_type": "code",
   "execution_count": 7,
   "metadata": {},
   "outputs": [
    {
     "data": {
      "text/plain": [
       "[MoleculeDatapoint(mol=<rdkit.Chem.rdchem.Mol object at 0x7f339279aff0>, y=array([3.54]), weight=1, gt_mask=None, lt_mask=None, x_f=array([340.858     ,   0.72844422]), x_phase=None, V_f=None, E_f=None, V_d=None),\n",
       " MoleculeDatapoint(mol=<rdkit.Chem.rdchem.Mol object at 0x7f339279b290>, y=array([-1.18]), weight=1, gt_mask=None, lt_mask=None, x_f=array([494.591     ,   0.54558681]), x_phase=None, V_f=None, E_f=None, V_d=None),\n",
       " MoleculeDatapoint(mol=<rdkit.Chem.rdchem.Mol object at 0x7f339279b060>, y=array([3.69]), weight=1, gt_mask=None, lt_mask=None, x_f=array([321.829     ,   0.80776119]), x_phase=None, V_f=None, E_f=None, V_d=None),\n",
       " MoleculeDatapoint(mol=<rdkit.Chem.rdchem.Mol object at 0x7f339279b140>, y=array([3.37]), weight=1, gt_mask=None, lt_mask=None, x_f=array([419.89      ,   0.50664956]), x_phase=None, V_f=None, E_f=None, V_d=None),\n",
       " MoleculeDatapoint(mol=<rdkit.Chem.rdchem.Mol object at 0x7f339279b1b0>, y=array([3.1]), weight=1, gt_mask=None, lt_mask=None, x_f=array([381.48      ,   0.74768647]), x_phase=None, V_f=None, E_f=None, V_d=None),\n",
       " MoleculeDatapoint(mol=<rdkit.Chem.rdchem.Mol object at 0x7f339279b5a0>, y=array([3.14]), weight=1, gt_mask=None, lt_mask=None, x_f=array([303.405     ,   0.81811245]), x_phase=None, V_f=None, E_f=None, V_d=None),\n",
       " MoleculeDatapoint(mol=<rdkit.Chem.rdchem.Mol object at 0x7f339279b680>, y=array([-0.72]), weight=1, gt_mask=None, lt_mask=None, x_f=array([5.05593000e+02, 4.24358446e-01]), x_phase=None, V_f=None, E_f=None, V_d=None),\n",
       " MoleculeDatapoint(mol=<rdkit.Chem.rdchem.Mol object at 0x7f339279b760>, y=array([0.34]), weight=1, gt_mask=None, lt_mask=None, x_f=array([5.02398000e+02, 3.68927008e-01]), x_phase=None, V_f=None, E_f=None, V_d=None),\n",
       " MoleculeDatapoint(mol=<rdkit.Chem.rdchem.Mol object at 0x7f339279b840>, y=array([3.05]), weight=1, gt_mask=None, lt_mask=None, x_f=array([312.321     ,   0.73788278]), x_phase=None, V_f=None, E_f=None, V_d=None),\n",
       " MoleculeDatapoint(mol=<rdkit.Chem.rdchem.Mol object at 0x7f339279b990>, y=array([2.25]), weight=1, gt_mask=None, lt_mask=None, x_f=array([234.305     ,   0.70328063]), x_phase=None, V_f=None, E_f=None, V_d=None),\n",
       " MoleculeDatapoint(mol=<rdkit.Chem.rdchem.Mol object at 0x7f339279ba70>, y=array([1.51]), weight=1, gt_mask=None, lt_mask=None, x_f=array([397.496     ,   0.80697078]), x_phase=None, V_f=None, E_f=None, V_d=None),\n",
       " MoleculeDatapoint(mol=<rdkit.Chem.rdchem.Mol object at 0x7f339279bb50>, y=array([2.61]), weight=1, gt_mask=None, lt_mask=None, x_f=array([352.377     ,   0.64583051]), x_phase=None, V_f=None, E_f=None, V_d=None),\n",
       " MoleculeDatapoint(mol=<rdkit.Chem.rdchem.Mol object at 0x7f339279bc30>, y=array([-0.08]), weight=1, gt_mask=None, lt_mask=None, x_f=array([113.16      ,   0.49136498]), x_phase=None, V_f=None, E_f=None, V_d=None),\n",
       " MoleculeDatapoint(mol=<rdkit.Chem.rdchem.Mol object at 0x7f339279bd10>, y=array([1.95]), weight=1, gt_mask=None, lt_mask=None, x_f=array([327.453   ,   0.780014]), x_phase=None, V_f=None, E_f=None, V_d=None),\n",
       " MoleculeDatapoint(mol=<rdkit.Chem.rdchem.Mol object at 0x7f339279bdf0>, y=array([1.34]), weight=1, gt_mask=None, lt_mask=None, x_f=array([452.58      ,   0.58346661]), x_phase=None, V_f=None, E_f=None, V_d=None),\n",
       " MoleculeDatapoint(mol=<rdkit.Chem.rdchem.Mol object at 0x7f339279bed0>, y=array([3.2]), weight=1, gt_mask=None, lt_mask=None, x_f=array([242.303     ,   0.64384765]), x_phase=None, V_f=None, E_f=None, V_d=None),\n",
       " MoleculeDatapoint(mol=<rdkit.Chem.rdchem.Mol object at 0x7f33924b0040>, y=array([1.6]), weight=1, gt_mask=None, lt_mask=None, x_f=array([384.48      ,   0.78252511]), x_phase=None, V_f=None, E_f=None, V_d=None),\n",
       " MoleculeDatapoint(mol=<rdkit.Chem.rdchem.Mol object at 0x7f33924b0120>, y=array([3.77]), weight=1, gt_mask=None, lt_mask=None, x_f=array([387.476     ,   0.61121418]), x_phase=None, V_f=None, E_f=None, V_d=None),\n",
       " MoleculeDatapoint(mol=<rdkit.Chem.rdchem.Mol object at 0x7f33924b0270>, y=array([3.15]), weight=1, gt_mask=None, lt_mask=None, x_f=array([454.939     ,   0.50562903]), x_phase=None, V_f=None, E_f=None, V_d=None),\n",
       " MoleculeDatapoint(mol=<rdkit.Chem.rdchem.Mol object at 0x7f33924b03c0>, y=array([0.32]), weight=1, gt_mask=None, lt_mask=None, x_f=array([488.548     ,   0.51302485]), x_phase=None, V_f=None, E_f=None, V_d=None),\n",
       " MoleculeDatapoint(mol=<rdkit.Chem.rdchem.Mol object at 0x7f33924b04a0>, y=array([2.92]), weight=1, gt_mask=None, lt_mask=None, x_f=array([4.42625000e+02, 3.07501583e-01]), x_phase=None, V_f=None, E_f=None, V_d=None),\n",
       " MoleculeDatapoint(mol=<rdkit.Chem.rdchem.Mol object at 0x7f33924b0580>, y=array([1.92]), weight=1, gt_mask=None, lt_mask=None, x_f=array([427.848     ,   0.64343578]), x_phase=None, V_f=None, E_f=None, V_d=None),\n",
       " MoleculeDatapoint(mol=<rdkit.Chem.rdchem.Mol object at 0x7f33924b0660>, y=array([3.17]), weight=1, gt_mask=None, lt_mask=None, x_f=array([421.497     ,   0.65946132]), x_phase=None, V_f=None, E_f=None, V_d=None),\n",
       " MoleculeDatapoint(mol=<rdkit.Chem.rdchem.Mol object at 0x7f33924b0740>, y=array([2.17]), weight=1, gt_mask=None, lt_mask=None, x_f=array([463.405     ,   0.61754497]), x_phase=None, V_f=None, E_f=None, V_d=None),\n",
       " MoleculeDatapoint(mol=<rdkit.Chem.rdchem.Mol object at 0x7f33924b0820>, y=array([1.2]), weight=1, gt_mask=None, lt_mask=None, x_f=array([255.361     ,   0.84899503]), x_phase=None, V_f=None, E_f=None, V_d=None),\n",
       " MoleculeDatapoint(mol=<rdkit.Chem.rdchem.Mol object at 0x7f33924b0900>, y=array([3.93]), weight=1, gt_mask=None, lt_mask=None, x_f=array([378.303     ,   0.78746251]), x_phase=None, V_f=None, E_f=None, V_d=None),\n",
       " MoleculeDatapoint(mol=<rdkit.Chem.rdchem.Mol object at 0x7f33924b09e0>, y=array([1.9]), weight=1, gt_mask=None, lt_mask=None, x_f=array([230.271     ,   0.80145586]), x_phase=None, V_f=None, E_f=None, V_d=None),\n",
       " MoleculeDatapoint(mol=<rdkit.Chem.rdchem.Mol object at 0x7f33924b0ac0>, y=array([2.27]), weight=1, gt_mask=None, lt_mask=None, x_f=array([5.5075000e+02, 1.4049845e-01]), x_phase=None, V_f=None, E_f=None, V_d=None),\n",
       " MoleculeDatapoint(mol=<rdkit.Chem.rdchem.Mol object at 0x7f33924b0ba0>, y=array([1.2]), weight=1, gt_mask=None, lt_mask=None, x_f=array([411.527     ,   0.73039641]), x_phase=None, V_f=None, E_f=None, V_d=None),\n",
       " MoleculeDatapoint(mol=<rdkit.Chem.rdchem.Mol object at 0x7f33924b0c80>, y=array([1.14]), weight=1, gt_mask=None, lt_mask=None, x_f=array([323.381     ,   0.78644715]), x_phase=None, V_f=None, E_f=None, V_d=None),\n",
       " MoleculeDatapoint(mol=<rdkit.Chem.rdchem.Mol object at 0x7f33924b0d60>, y=array([2.6]), weight=1, gt_mask=None, lt_mask=None, x_f=array([424.526     ,   0.69266341]), x_phase=None, V_f=None, E_f=None, V_d=None),\n",
       " MoleculeDatapoint(mol=<rdkit.Chem.rdchem.Mol object at 0x7f33924b0e40>, y=array([3.3]), weight=1, gt_mask=None, lt_mask=None, x_f=array([476.478     ,   0.51114153]), x_phase=None, V_f=None, E_f=None, V_d=None),\n",
       " MoleculeDatapoint(mol=<rdkit.Chem.rdchem.Mol object at 0x7f33924b0f20>, y=array([3.94]), weight=1, gt_mask=None, lt_mask=None, x_f=array([314.469     ,   0.70131943]), x_phase=None, V_f=None, E_f=None, V_d=None),\n",
       " MoleculeDatapoint(mol=<rdkit.Chem.rdchem.Mol object at 0x7f33924b1000>, y=array([2.34]), weight=1, gt_mask=None, lt_mask=None, x_f=array([501.432     ,   0.57765967]), x_phase=None, V_f=None, E_f=None, V_d=None),\n",
       " MoleculeDatapoint(mol=<rdkit.Chem.rdchem.Mol object at 0x7f33924b10e0>, y=array([2.57]), weight=1, gt_mask=None, lt_mask=None, x_f=array([329.359    ,   0.7746593]), x_phase=None, V_f=None, E_f=None, V_d=None),\n",
       " MoleculeDatapoint(mol=<rdkit.Chem.rdchem.Mol object at 0x7f33924b11c0>, y=array([3.62]), weight=1, gt_mask=None, lt_mask=None, x_f=array([326.425    ,   0.7732041]), x_phase=None, V_f=None, E_f=None, V_d=None),\n",
       " MoleculeDatapoint(mol=<rdkit.Chem.rdchem.Mol object at 0x7f33924b12a0>, y=array([2.06]), weight=1, gt_mask=None, lt_mask=None, x_f=array([460.563     ,   0.50380641]), x_phase=None, V_f=None, E_f=None, V_d=None),\n",
       " MoleculeDatapoint(mol=<rdkit.Chem.rdchem.Mol object at 0x7f33924b1380>, y=array([4.33]), weight=1, gt_mask=None, lt_mask=None, x_f=array([5.16005000e+02, 3.28275421e-01]), x_phase=None, V_f=None, E_f=None, V_d=None),\n",
       " MoleculeDatapoint(mol=<rdkit.Chem.rdchem.Mol object at 0x7f33924b1460>, y=array([2.55]), weight=1, gt_mask=None, lt_mask=None, x_f=array([461.591     ,   0.56967129]), x_phase=None, V_f=None, E_f=None, V_d=None),\n",
       " MoleculeDatapoint(mol=<rdkit.Chem.rdchem.Mol object at 0x7f33924b1540>, y=array([2.78]), weight=1, gt_mask=None, lt_mask=None, x_f=array([6.78661000e+02, 2.87985132e-01]), x_phase=None, V_f=None, E_f=None, V_d=None),\n",
       " MoleculeDatapoint(mol=<rdkit.Chem.rdchem.Mol object at 0x7f33924b1620>, y=array([1.4]), weight=1, gt_mask=None, lt_mask=None, x_f=array([238.055     ,   0.73802907]), x_phase=None, V_f=None, E_f=None, V_d=None),\n",
       " MoleculeDatapoint(mol=<rdkit.Chem.rdchem.Mol object at 0x7f33924b1700>, y=array([-0.54]), weight=1, gt_mask=None, lt_mask=None, x_f=array([339.483    ,   0.8020712]), x_phase=None, V_f=None, E_f=None, V_d=None),\n",
       " MoleculeDatapoint(mol=<rdkit.Chem.rdchem.Mol object at 0x7f33924b17e0>, y=array([2.91]), weight=1, gt_mask=None, lt_mask=None, x_f=array([258.31     ,   0.4398822]), x_phase=None, V_f=None, E_f=None, V_d=None),\n",
       " MoleculeDatapoint(mol=<rdkit.Chem.rdchem.Mol object at 0x7f33924b18c0>, y=array([-0.4]), weight=1, gt_mask=None, lt_mask=None, x_f=array([416.417     ,   0.75836353]), x_phase=None, V_f=None, E_f=None, V_d=None),\n",
       " MoleculeDatapoint(mol=<rdkit.Chem.rdchem.Mol object at 0x7f33924b19a0>, y=array([-0.16]), weight=1, gt_mask=None, lt_mask=None, x_f=array([339.244     ,   0.85925029]), x_phase=None, V_f=None, E_f=None, V_d=None),\n",
       " MoleculeDatapoint(mol=<rdkit.Chem.rdchem.Mol object at 0x7f33924b1a80>, y=array([2.2]), weight=1, gt_mask=None, lt_mask=None, x_f=array([425.489     ,   0.61589917]), x_phase=None, V_f=None, E_f=None, V_d=None),\n",
       " MoleculeDatapoint(mol=<rdkit.Chem.rdchem.Mol object at 0x7f33924b1b60>, y=array([3.4]), weight=1, gt_mask=None, lt_mask=None, x_f=array([249.317    ,   0.7667769]), x_phase=None, V_f=None, E_f=None, V_d=None),\n",
       " MoleculeDatapoint(mol=<rdkit.Chem.rdchem.Mol object at 0x7f33924b1c40>, y=array([1.1]), weight=1, gt_mask=None, lt_mask=None, x_f=array([298.298     ,   0.70442186]), x_phase=None, V_f=None, E_f=None, V_d=None),\n",
       " MoleculeDatapoint(mol=<rdkit.Chem.rdchem.Mol object at 0x7f33924b1d20>, y=array([2.28]), weight=1, gt_mask=None, lt_mask=None, x_f=array([4.82602000e+02, 2.16570331e-01]), x_phase=None, V_f=None, E_f=None, V_d=None),\n",
       " MoleculeDatapoint(mol=<rdkit.Chem.rdchem.Mol object at 0x7f33924b1e00>, y=array([3.47]), weight=1, gt_mask=None, lt_mask=None, x_f=array([252.317     ,   0.71400683]), x_phase=None, V_f=None, E_f=None, V_d=None),\n",
       " MoleculeDatapoint(mol=<rdkit.Chem.rdchem.Mol object at 0x7f33924b1ee0>, y=array([3.]), weight=1, gt_mask=None, lt_mask=None, x_f=array([4.9046200e+02, 3.2304562e-01]), x_phase=None, V_f=None, E_f=None, V_d=None),\n",
       " MoleculeDatapoint(mol=<rdkit.Chem.rdchem.Mol object at 0x7f33924b1fc0>, y=array([-1.17]), weight=1, gt_mask=None, lt_mask=None, x_f=array([204.229    ,   0.7005841]), x_phase=None, V_f=None, E_f=None, V_d=None),\n",
       " MoleculeDatapoint(mol=<rdkit.Chem.rdchem.Mol object at 0x7f33924b20a0>, y=array([1.95]), weight=1, gt_mask=None, lt_mask=None, x_f=array([380.419     ,   0.60448214]), x_phase=None, V_f=None, E_f=None, V_d=None),\n",
       " MoleculeDatapoint(mol=<rdkit.Chem.rdchem.Mol object at 0x7f33924b2180>, y=array([-0.99]), weight=1, gt_mask=None, lt_mask=None, x_f=array([4.44373000e+02, 4.33823799e-01]), x_phase=None, V_f=None, E_f=None, V_d=None),\n",
       " MoleculeDatapoint(mol=<rdkit.Chem.rdchem.Mol object at 0x7f33924b2260>, y=array([2.]), weight=1, gt_mask=None, lt_mask=None, x_f=array([446.617    ,   0.6791336]), x_phase=None, V_f=None, E_f=None, V_d=None),\n",
       " MoleculeDatapoint(mol=<rdkit.Chem.rdchem.Mol object at 0x7f33924b2340>, y=array([3.8]), weight=1, gt_mask=None, lt_mask=None, x_f=array([250.305     ,   0.65794428]), x_phase=None, V_f=None, E_f=None, V_d=None),\n",
       " MoleculeDatapoint(mol=<rdkit.Chem.rdchem.Mol object at 0x7f33924b2420>, y=array([3.21]), weight=1, gt_mask=None, lt_mask=None, x_f=array([399.454  ,   0.45952]), x_phase=None, V_f=None, E_f=None, V_d=None),\n",
       " MoleculeDatapoint(mol=<rdkit.Chem.rdchem.Mol object at 0x7f33924b2500>, y=array([0.36]), weight=1, gt_mask=None, lt_mask=None, x_f=array([364.471     ,   0.78906549]), x_phase=None, V_f=None, E_f=None, V_d=None),\n",
       " MoleculeDatapoint(mol=<rdkit.Chem.rdchem.Mol object at 0x7f33924b25e0>, y=array([2.14]), weight=1, gt_mask=None, lt_mask=None, x_f=array([354.425     ,   0.89406046]), x_phase=None, V_f=None, E_f=None, V_d=None),\n",
       " MoleculeDatapoint(mol=<rdkit.Chem.rdchem.Mol object at 0x7f33924b26c0>, y=array([1.71]), weight=1, gt_mask=None, lt_mask=None, x_f=array([333.416     ,   0.57148794]), x_phase=None, V_f=None, E_f=None, V_d=None),\n",
       " MoleculeDatapoint(mol=<rdkit.Chem.rdchem.Mol object at 0x7f33924b27a0>, y=array([1.19]), weight=1, gt_mask=None, lt_mask=None, x_f=array([337.419     ,   0.87140183]), x_phase=None, V_f=None, E_f=None, V_d=None),\n",
       " MoleculeDatapoint(mol=<rdkit.Chem.rdchem.Mol object at 0x7f33924b2880>, y=array([2.7]), weight=1, gt_mask=None, lt_mask=None, x_f=array([388.308     ,   0.85113577]), x_phase=None, V_f=None, E_f=None, V_d=None),\n",
       " MoleculeDatapoint(mol=<rdkit.Chem.rdchem.Mol object at 0x7f33924b2960>, y=array([2.77]), weight=1, gt_mask=None, lt_mask=None, x_f=array([382.443     ,   0.72607923]), x_phase=None, V_f=None, E_f=None, V_d=None),\n",
       " MoleculeDatapoint(mol=<rdkit.Chem.rdchem.Mol object at 0x7f33924b2a40>, y=array([3.8]), weight=1, gt_mask=None, lt_mask=None, x_f=array([250.301     ,   0.76831575]), x_phase=None, V_f=None, E_f=None, V_d=None),\n",
       " MoleculeDatapoint(mol=<rdkit.Chem.rdchem.Mol object at 0x7f33924b2b20>, y=array([2.87]), weight=1, gt_mask=None, lt_mask=None, x_f=array([212.248     ,   0.72818747]), x_phase=None, V_f=None, E_f=None, V_d=None),\n",
       " MoleculeDatapoint(mol=<rdkit.Chem.rdchem.Mol object at 0x7f33924b2c00>, y=array([1.91]), weight=1, gt_mask=None, lt_mask=None, x_f=array([415.444     ,   0.52268229]), x_phase=None, V_f=None, E_f=None, V_d=None),\n",
       " MoleculeDatapoint(mol=<rdkit.Chem.rdchem.Mol object at 0x7f33924b2ce0>, y=array([3.4]), weight=1, gt_mask=None, lt_mask=None, x_f=array([369.509     ,   0.87660294]), x_phase=None, V_f=None, E_f=None, V_d=None),\n",
       " MoleculeDatapoint(mol=<rdkit.Chem.rdchem.Mol object at 0x7f33924b2dc0>, y=array([3.13]), weight=1, gt_mask=None, lt_mask=None, x_f=array([430.911     ,   0.50509688]), x_phase=None, V_f=None, E_f=None, V_d=None),\n",
       " MoleculeDatapoint(mol=<rdkit.Chem.rdchem.Mol object at 0x7f33924b2ea0>, y=array([3.]), weight=1, gt_mask=None, lt_mask=None, x_f=array([254.285     ,   0.84317296]), x_phase=None, V_f=None, E_f=None, V_d=None),\n",
       " MoleculeDatapoint(mol=<rdkit.Chem.rdchem.Mol object at 0x7f33924b2f80>, y=array([2.33]), weight=1, gt_mask=None, lt_mask=None, x_f=array([152.584     ,   0.61627493]), x_phase=None, V_f=None, E_f=None, V_d=None),\n",
       " MoleculeDatapoint(mol=<rdkit.Chem.rdchem.Mol object at 0x7f33924b3060>, y=array([2.8]), weight=1, gt_mask=None, lt_mask=None, x_f=array([447.501     ,   0.73438031]), x_phase=None, V_f=None, E_f=None, V_d=None),\n",
       " MoleculeDatapoint(mol=<rdkit.Chem.rdchem.Mol object at 0x7f33924b3140>, y=array([-0.54]), weight=1, gt_mask=None, lt_mask=None, x_f=array([4.17531000e+02, 3.05209961e-01]), x_phase=None, V_f=None, E_f=None, V_d=None),\n",
       " MoleculeDatapoint(mol=<rdkit.Chem.rdchem.Mol object at 0x7f33924b3220>, y=array([3.16]), weight=1, gt_mask=None, lt_mask=None, x_f=array([4.99962000e+02, 3.34742289e-01]), x_phase=None, V_f=None, E_f=None, V_d=None),\n",
       " MoleculeDatapoint(mol=<rdkit.Chem.rdchem.Mol object at 0x7f33924b3300>, y=array([2.91]), weight=1, gt_mask=None, lt_mask=None, x_f=array([318.376     ,   0.75996763]), x_phase=None, V_f=None, E_f=None, V_d=None),\n",
       " MoleculeDatapoint(mol=<rdkit.Chem.rdchem.Mol object at 0x7f33924b33e0>, y=array([1.55]), weight=1, gt_mask=None, lt_mask=None, x_f=array([444.019     ,   0.73133156]), x_phase=None, V_f=None, E_f=None, V_d=None),\n",
       " MoleculeDatapoint(mol=<rdkit.Chem.rdchem.Mol object at 0x7f33924b34c0>, y=array([0.2]), weight=1, gt_mask=None, lt_mask=None, x_f=array([310.335     ,   0.78708788]), x_phase=None, V_f=None, E_f=None, V_d=None),\n",
       " MoleculeDatapoint(mol=<rdkit.Chem.rdchem.Mol object at 0x7f33924b35a0>, y=array([1.43]), weight=1, gt_mask=None, lt_mask=None, x_f=array([4.39578000e+02, 3.78124343e-01]), x_phase=None, V_f=None, E_f=None, V_d=None),\n",
       " MoleculeDatapoint(mol=<rdkit.Chem.rdchem.Mol object at 0x7f33924b3680>, y=array([2.47]), weight=1, gt_mask=None, lt_mask=None, x_f=array([358.356     ,   0.62188841]), x_phase=None, V_f=None, E_f=None, V_d=None),\n",
       " MoleculeDatapoint(mol=<rdkit.Chem.rdchem.Mol object at 0x7f33924b3760>, y=array([2.48]), weight=1, gt_mask=None, lt_mask=None, x_f=array([4.29484000e+02, 4.15090802e-01]), x_phase=None, V_f=None, E_f=None, V_d=None),\n",
       " MoleculeDatapoint(mol=<rdkit.Chem.rdchem.Mol object at 0x7f33924b3840>, y=array([-0.45]), weight=1, gt_mask=None, lt_mask=None, x_f=array([361.373     ,   0.87473983]), x_phase=None, V_f=None, E_f=None, V_d=None),\n",
       " MoleculeDatapoint(mol=<rdkit.Chem.rdchem.Mol object at 0x7f33924b3920>, y=array([2.]), weight=1, gt_mask=None, lt_mask=None, x_f=array([412.534     ,   0.78694356]), x_phase=None, V_f=None, E_f=None, V_d=None),\n",
       " MoleculeDatapoint(mol=<rdkit.Chem.rdchem.Mol object at 0x7f33924b3a00>, y=array([2.6]), weight=1, gt_mask=None, lt_mask=None, x_f=array([392.458     ,   0.68861595]), x_phase=None, V_f=None, E_f=None, V_d=None),\n",
       " MoleculeDatapoint(mol=<rdkit.Chem.rdchem.Mol object at 0x7f33924b3ae0>, y=array([3.5]), weight=1, gt_mask=None, lt_mask=None, x_f=array([284.267     ,   0.75600992]), x_phase=None, V_f=None, E_f=None, V_d=None),\n",
       " MoleculeDatapoint(mol=<rdkit.Chem.rdchem.Mol object at 0x7f33924b3bc0>, y=array([0.89]), weight=1, gt_mask=None, lt_mask=None, x_f=array([277.411     ,   0.82543754]), x_phase=None, V_f=None, E_f=None, V_d=None),\n",
       " MoleculeDatapoint(mol=<rdkit.Chem.rdchem.Mol object at 0x7f33924b3ca0>, y=array([1.3]), weight=1, gt_mask=None, lt_mask=None, x_f=array([211.224     ,   0.67019647]), x_phase=None, V_f=None, E_f=None, V_d=None),\n",
       " MoleculeDatapoint(mol=<rdkit.Chem.rdchem.Mol object at 0x7f33924b3d80>, y=array([2.01]), weight=1, gt_mask=None, lt_mask=None, x_f=array([405.357     ,   0.68719662]), x_phase=None, V_f=None, E_f=None, V_d=None),\n",
       " MoleculeDatapoint(mol=<rdkit.Chem.rdchem.Mol object at 0x7f33924b3e60>, y=array([3.59]), weight=1, gt_mask=None, lt_mask=None, x_f=array([5.13989000e+02, 3.23325568e-01]), x_phase=None, V_f=None, E_f=None, V_d=None),\n",
       " MoleculeDatapoint(mol=<rdkit.Chem.rdchem.Mol object at 0x7f33924b3f40>, y=array([0.18]), weight=1, gt_mask=None, lt_mask=None, x_f=array([416.905     ,   0.75068127]), x_phase=None, V_f=None, E_f=None, V_d=None),\n",
       " MoleculeDatapoint(mol=<rdkit.Chem.rdchem.Mol object at 0x7f33924b80b0>, y=array([2.6]), weight=1, gt_mask=None, lt_mask=None, x_f=array([409.223     ,   0.56980173]), x_phase=None, V_f=None, E_f=None, V_d=None),\n",
       " MoleculeDatapoint(mol=<rdkit.Chem.rdchem.Mol object at 0x7f33924b8190>, y=array([1.3]), weight=1, gt_mask=None, lt_mask=None, x_f=array([385.439     ,   0.81524052]), x_phase=None, V_f=None, E_f=None, V_d=None),\n",
       " MoleculeDatapoint(mol=<rdkit.Chem.rdchem.Mol object at 0x7f33924b8270>, y=array([2.1]), weight=1, gt_mask=None, lt_mask=None, x_f=array([268.32      ,   0.78910059]), x_phase=None, V_f=None, E_f=None, V_d=None),\n",
       " MoleculeDatapoint(mol=<rdkit.Chem.rdchem.Mol object at 0x7f33924b8350>, y=array([3.72]), weight=1, gt_mask=None, lt_mask=None, x_f=array([355.221     ,   0.73302986]), x_phase=None, V_f=None, E_f=None, V_d=None),\n",
       " MoleculeDatapoint(mol=<rdkit.Chem.rdchem.Mol object at 0x7f33924b8430>, y=array([1.72]), weight=1, gt_mask=None, lt_mask=None, x_f=array([380.517     ,   0.75803221]), x_phase=None, V_f=None, E_f=None, V_d=None),\n",
       " MoleculeDatapoint(mol=<rdkit.Chem.rdchem.Mol object at 0x7f33924b8510>, y=array([1.65]), weight=1, gt_mask=None, lt_mask=None, x_f=array([354.45      ,   0.77295741]), x_phase=None, V_f=None, E_f=None, V_d=None),\n",
       " MoleculeDatapoint(mol=<rdkit.Chem.rdchem.Mol object at 0x7f33924b85f0>, y=array([3.7]), weight=1, gt_mask=None, lt_mask=None, x_f=array([5.60486000e+02, 3.80779208e-01]), x_phase=None, V_f=None, E_f=None, V_d=None),\n",
       " MoleculeDatapoint(mol=<rdkit.Chem.rdchem.Mol object at 0x7f33924b86d0>, y=array([2.2]), weight=1, gt_mask=None, lt_mask=None, x_f=array([5.40669000e+02, 2.56099133e-01]), x_phase=None, V_f=None, E_f=None, V_d=None),\n",
       " MoleculeDatapoint(mol=<rdkit.Chem.rdchem.Mol object at 0x7f33924b87b0>, y=array([2.04]), weight=1, gt_mask=None, lt_mask=None, x_f=array([6.5661500e+02, 1.3902009e-01]), x_phase=None, V_f=None, E_f=None, V_d=None),\n",
       " MoleculeDatapoint(mol=<rdkit.Chem.rdchem.Mol object at 0x7f33924b8890>, y=array([4.49]), weight=1, gt_mask=None, lt_mask=None, x_f=array([456.555     ,   0.48269218]), x_phase=None, V_f=None, E_f=None, V_d=None),\n",
       " MoleculeDatapoint(mol=<rdkit.Chem.rdchem.Mol object at 0x7f33924b8970>, y=array([0.2]), weight=1, gt_mask=None, lt_mask=None, x_f=array([218.26    ,   0.721007]), x_phase=None, V_f=None, E_f=None, V_d=None),\n",
       " MoleculeDatapoint(mol=<rdkit.Chem.rdchem.Mol object at 0x7f33924b8a50>, y=array([2.]), weight=1, gt_mask=None, lt_mask=None, x_f=array([469.571     ,   0.48552396]), x_phase=None, V_f=None, E_f=None, V_d=None)]"
      ]
     },
     "execution_count": 7,
     "metadata": {},
     "output_type": "execute_result"
    }
   ],
   "source": [
    "all_data = [data.MoleculeDatapoint.from_smi(smi, y=y, x_f=f) for smi, y, f in zip(smis, ys, fs)]\n",
    "all_data"
   ]
  },
  {
   "cell_type": "markdown",
   "metadata": {},
   "source": [
    "## Get Molecule Datasets"
   ]
  },
  {
   "cell_type": "code",
   "execution_count": 8,
   "metadata": {},
   "outputs": [],
   "source": [
    "train_data, val_test_data = train_test_split(all_data, test_size=0.1)\n",
    "val_data, test_data = train_test_split(val_test_data, test_size=0.5)"
   ]
  },
  {
   "cell_type": "code",
   "execution_count": 9,
   "metadata": {},
   "outputs": [
    {
     "data": {
      "text/html": [
       "<style>#sk-container-id-1 {color: black;}#sk-container-id-1 pre{padding: 0;}#sk-container-id-1 div.sk-toggleable {background-color: white;}#sk-container-id-1 label.sk-toggleable__label {cursor: pointer;display: block;width: 100%;margin-bottom: 0;padding: 0.3em;box-sizing: border-box;text-align: center;}#sk-container-id-1 label.sk-toggleable__label-arrow:before {content: \"▸\";float: left;margin-right: 0.25em;color: #696969;}#sk-container-id-1 label.sk-toggleable__label-arrow:hover:before {color: black;}#sk-container-id-1 div.sk-estimator:hover label.sk-toggleable__label-arrow:before {color: black;}#sk-container-id-1 div.sk-toggleable__content {max-height: 0;max-width: 0;overflow: hidden;text-align: left;background-color: #f0f8ff;}#sk-container-id-1 div.sk-toggleable__content pre {margin: 0.2em;color: black;border-radius: 0.25em;background-color: #f0f8ff;}#sk-container-id-1 input.sk-toggleable__control:checked~div.sk-toggleable__content {max-height: 200px;max-width: 100%;overflow: auto;}#sk-container-id-1 input.sk-toggleable__control:checked~label.sk-toggleable__label-arrow:before {content: \"▾\";}#sk-container-id-1 div.sk-estimator input.sk-toggleable__control:checked~label.sk-toggleable__label {background-color: #d4ebff;}#sk-container-id-1 div.sk-label input.sk-toggleable__control:checked~label.sk-toggleable__label {background-color: #d4ebff;}#sk-container-id-1 input.sk-hidden--visually {border: 0;clip: rect(1px 1px 1px 1px);clip: rect(1px, 1px, 1px, 1px);height: 1px;margin: -1px;overflow: hidden;padding: 0;position: absolute;width: 1px;}#sk-container-id-1 div.sk-estimator {font-family: monospace;background-color: #f0f8ff;border: 1px dotted black;border-radius: 0.25em;box-sizing: border-box;margin-bottom: 0.5em;}#sk-container-id-1 div.sk-estimator:hover {background-color: #d4ebff;}#sk-container-id-1 div.sk-parallel-item::after {content: \"\";width: 100%;border-bottom: 1px solid gray;flex-grow: 1;}#sk-container-id-1 div.sk-label:hover label.sk-toggleable__label {background-color: #d4ebff;}#sk-container-id-1 div.sk-serial::before {content: \"\";position: absolute;border-left: 1px solid gray;box-sizing: border-box;top: 0;bottom: 0;left: 50%;z-index: 0;}#sk-container-id-1 div.sk-serial {display: flex;flex-direction: column;align-items: center;background-color: white;padding-right: 0.2em;padding-left: 0.2em;position: relative;}#sk-container-id-1 div.sk-item {position: relative;z-index: 1;}#sk-container-id-1 div.sk-parallel {display: flex;align-items: stretch;justify-content: center;background-color: white;position: relative;}#sk-container-id-1 div.sk-item::before, #sk-container-id-1 div.sk-parallel-item::before {content: \"\";position: absolute;border-left: 1px solid gray;box-sizing: border-box;top: 0;bottom: 0;left: 50%;z-index: -1;}#sk-container-id-1 div.sk-parallel-item {display: flex;flex-direction: column;z-index: 1;position: relative;background-color: white;}#sk-container-id-1 div.sk-parallel-item:first-child::after {align-self: flex-end;width: 50%;}#sk-container-id-1 div.sk-parallel-item:last-child::after {align-self: flex-start;width: 50%;}#sk-container-id-1 div.sk-parallel-item:only-child::after {width: 0;}#sk-container-id-1 div.sk-dashed-wrapped {border: 1px dashed gray;margin: 0 0.4em 0.5em 0.4em;box-sizing: border-box;padding-bottom: 0.4em;background-color: white;}#sk-container-id-1 div.sk-label label {font-family: monospace;font-weight: bold;display: inline-block;line-height: 1.2em;}#sk-container-id-1 div.sk-label-container {text-align: center;}#sk-container-id-1 div.sk-container {/* jupyter's `normalize.less` sets `[hidden] { display: none; }` but bootstrap.min.css set `[hidden] { display: none !important; }` so we also need the `!important` here to be able to override the default hidden behavior on the sphinx rendered scikit-learn.org. See: https://github.com/scikit-learn/scikit-learn/issues/21755 */display: inline-block !important;position: relative;}#sk-container-id-1 div.sk-text-repr-fallback {display: none;}</style><div id=\"sk-container-id-1\" class=\"sk-top-container\"><div class=\"sk-text-repr-fallback\"><pre>StandardScaler()</pre><b>In a Jupyter environment, please rerun this cell to show the HTML representation or trust the notebook. <br />On GitHub, the HTML representation is unable to render, please try loading this page with nbviewer.org.</b></div><div class=\"sk-container\" hidden><div class=\"sk-item\"><div class=\"sk-estimator sk-toggleable\"><input class=\"sk-toggleable__control sk-hidden--visually\" id=\"sk-estimator-id-1\" type=\"checkbox\" checked><label for=\"sk-estimator-id-1\" class=\"sk-toggleable__label sk-toggleable__label-arrow\">StandardScaler</label><div class=\"sk-toggleable__content\"><pre>StandardScaler()</pre></div></div></div></div></div>"
      ],
      "text/plain": [
       "StandardScaler()"
      ]
     },
     "execution_count": 9,
     "metadata": {},
     "output_type": "execute_result"
    }
   ],
   "source": [
    "featurizer = featurizers.SimpleMoleculeMolGraphFeaturizer()\n",
    "\n",
    "train_dset = data.MoleculeDataset(train_data, featurizer)\n",
    "scaler = train_dset.normalize_targets()\n",
    "\n",
    "val_dset = data.MoleculeDataset(val_data, featurizer)\n",
    "val_dset.normalize_targets(scaler)\n",
    "test_dset = data.MoleculeDataset(test_data, featurizer)\n",
    "test_dset.normalize_targets(scaler)"
   ]
  }
 ],
 "metadata": {
  "kernelspec": {
   "display_name": "Python 3",
   "language": "python",
   "name": "python3"
  },
  "language_info": {
   "codemirror_mode": {
    "name": "ipython",
    "version": 3
   },
   "file_extension": ".py",
   "mimetype": "text/x-python",
   "name": "python",
   "nbconvert_exporter": "python",
   "pygments_lexer": "ipython3",
   "version": "3.11.6"
  },
  "orig_nbformat": 4
 },
 "nbformat": 4,
 "nbformat_minor": 2
}
